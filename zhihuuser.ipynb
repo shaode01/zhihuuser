{
 "cells": [
  {
   "cell_type": "code",
   "execution_count": 1,
   "metadata": {
    "collapsed": false
   },
   "outputs": [
    {
     "name": "stdout",
     "output_type": "stream",
     "text": [
      "█\r"
     ]
    }
   ],
   "source": [
    "import traceback\n",
    "import pandas as pd\n",
    "import requests\n",
    "import itchat\n",
    "import time\n",
    "from bs4 import BeautifulSoup\n",
    "import csv\n",
    "import json\n",
    "import urllib2\n",
    "import gzip\n",
    "from StringIO import StringIO\n",
    "import zlib\n",
    "import sys\n",
    "from selenium import webdriver\n",
    "\n",
    "reload(sys) \n",
    "sys.setdefaultencoding( \"utf-8\" ) \n",
    "headers = {'User-Agent': 'Mozilla/5.0 (Windows NT 6.1; Win64; x64) AppleWebKit/537.36 (KHTML, like Gecko) Chrome/60.0.3112.101 Safari/537.36',\n",
    "    'authorization':'oauth c3cef7c66a1843f8b3a9e6a1e3160e20',\n",
    "    'Accept-Encoding':'gzip'      } \n",
    "\n",
    "headers = {'User-Agent': 'Mozilla/5.0 (Windows NT 6.1; Win64; x64) AppleWebKit/537.36 (KHTML, like Gecko) Chrome/60.0.3112.101 Safari/537.36',\n",
    "    'authorization':'Bearer 2|1:0|10:1501462090|4:z_c0|92:Mi4wQUFDQW9mOGpBQUFBWUVKY0xpS3BDeWNBQUFDRUFsVk5TZ3VtV1FCbFR2MEJhZV85NW9HY210b05SQWt1bjJDT0Zn|0d8d053b9cd64acb04a5a5c37da67ab0649d3d172677057cb2fc1422b812c4b9',\n",
    "    'Accept-Encoding':'gzip'  ,\n",
    "    'Connection':'keep-alive' ,\n",
    "    'X-UDID':'AGBCXC4iqQuPTj7aQR5C9CR1laWyFAQZwGk='} \n",
    "\n",
    "def getinfobyuserid(userid):\n",
    "    url=\"https://www.zhihu.com/api/v4/members/\"+userid+\"?include=locations,business,voteup_count,thanked_count,follower_count,favorited_count\"\n",
    "    r=requests.get(url,headers=headers)\n",
    "    r.encoding='gbk'\n",
    "    json_str = r.json()\n",
    "    #print json_str\n",
    "    result=[]\n",
    "    result.append(json_str['url_token'])\n",
    "    result.append(json_str['voteup_count'])\n",
    "    result.append(json_str['thanked_count'])\n",
    "    result.append(json_str['follower_count'])\n",
    "    result.append(json_str['favorited_count'])\n",
    "    if(json_str.has_key(\"business\")):\n",
    "        result.append(json_str['business']['name'])\n",
    "    else:\n",
    "        result.append(0)\n",
    "    if(json_str.has_key(\"locations\")):\n",
    "        if(len(json_str['locations'])>0):\n",
    "            result.append(json_str['locations'][0]['name'])\n",
    "        else:\n",
    "            result.append(0)\n",
    "    else:\n",
    "        result.append(0)\n",
    "    return result\n",
    "def getfollowers(userid,offset):\n",
    "    url=\"https://www.zhihu.com/api/v4/members/\"+userid+\"/followees?offset=\"+offset+\"&limit=20\"\n",
    "    url=\"https://www.zhihu.com/api/v4/members/\"+userid+\"/followers?include=data[*].answer_count,articles_count,gender,follower_count,is_followed,is_following,badge[?(type=best_answerer)].topics&offset=\"+offset+\"&limit=20\"\n",
    "    r=requests.get(url,headers=headers)\n",
    "    r.encoding='gbk'\n",
    "    json_str = r.json()\n",
    "    return json_str\n",
    "\n",
    "def loadData(userid):\n",
    "    url=\"https://www.zhihu.com/api/v4/members/\"+userid+\"?include=locations,business,voteup_count,thanked_count,follower_count,favorited_count\"\n",
    "    send_headers = {'User-Agent': 'Mozilla/5.0 (Windows NT 6.1; Win64; x64) AppleWebKit/537.36 (KHTML, like Gecko) Chrome/60.0.3112.101 Safari/537.36',\n",
    "    'authorization':'oauth c3cef7c66a1843f8b3a9e6a1e3160e20',\n",
    "    'Accept-Encoding':'gzip'      } \n",
    "    request = urllib2.Request(url,headers=send_headers)\n",
    "    response = urllib2.urlopen(request)\n",
    "    content = response.read()\n",
    "    encoding = response.info().get('Content-Encoding')\n",
    "    if encoding == 'gzip':\n",
    "        content = gzipp(content)\n",
    "    elif encoding == 'deflate':\n",
    "        content = deflate(content)\n",
    "    return content\n",
    "\n",
    "def gzipp(data):\n",
    "    buf = StringIO(data)\n",
    "    f = gzip.GzipFile(fileobj=buf)\n",
    "    return f.read()\n",
    "\n",
    "def deflate(data):\n",
    "    try:\n",
    "        return zlib.decompress(data, -zlib.MAX_WBITS)\n",
    "    except zlib.error:\n",
    "        return zlib.decompress(data)\n",
    "\n",
    "def main(userid):\n",
    "    content = loadData(userid)\n",
    "    print content\n",
    "def getuserid(followerlist):\n",
    "    for follower in followerlist:\n",
    "        if(follower[\"follower_count\"]>4000):\n",
    "            yield follower[\"url_token\"]\n",
    "def usercsv(userid,offset):\n",
    "    foll=getfollowers(userid,offset)\n",
    "    folls=foll['data']\n",
    "    followers=[]\n",
    "    aaa=getuserid(folls)\n",
    "    for i in aaa:\n",
    "        followers.append(i)\n",
    "    followerinfo=[]    \n",
    "    for follower in followers:\n",
    "        followerinfo.append(getinfobyuserid(follower))\n",
    "        print time.strftime('%H:%M:%S',time.localtime(time.time()))\n",
    "        time.sleep(2)\n",
    "    follpd=pd.DataFrame(followerinfo)  \n",
    "    print len(follpd)\n",
    "    #follpd.columns=['name',u'获得的赞同',u'获得的感谢',u'关注者',u'回答被收藏',u'从事行业',u'居住地']\n",
    "    if(len(followerinfo)>0):\n",
    "        follpd.to_csv(\"user.csv\",mode='a',index=False,header=False)\n",
    "\n",
    "def usercsv_selenium(userid,offset):\n",
    "    Chrome_login.get('https://www.zhihu.com/api/v4/members/qing-shi-yong-zhen-shi-xing-ming/followees?offset=0&limit=20')    \n",
    "    pre=Chrome_login.find_element_by_tag_name(\"pre\")\n",
    "    prejson=json.loads(pre.text)\n",
    "    folls=prejson['data']\n",
    "    followers=[]\n",
    "    aaa=getuserid(folls)\n",
    "    for i in aaa:\n",
    "        followers.append(i)\n",
    "    followerinfo=[]    \n",
    "    for follower in followers:\n",
    "        followerinfo.append(getinfobyuserid(follower))\n",
    "        print time.strftime('%H:%M:%S',time.localtime(time.time()))\n",
    "        time.sleep(2)\n",
    "    follpd=pd.DataFrame(followerinfo)  \n",
    "    print len(follpd)\n",
    "    #follpd.columns=['name',u'获得的赞同',u'获得的感谢',u'关注者',u'回答被收藏',u'从事行业',u'居住地']\n",
    "    if(len(followerinfo)>0):\n",
    "        follpd.to_csv(\"user.csv\",mode='a',index=False,header=False)"
   ]
  },
  {
   "cell_type": "code",
   "execution_count": 2,
   "metadata": {
    "collapsed": true
   },
   "outputs": [],
   "source": [
    "Chrome_login=webdriver.Chrome()"
   ]
  },
  {
   "cell_type": "code",
   "execution_count": 20,
   "metadata": {
    "collapsed": true
   },
   "outputs": [],
   "source": [
    "ar=getinfobyuserid(userid)\n",
    "print ar"
   ]
  },
  {
   "cell_type": "code",
   "execution_count": 8,
   "metadata": {
    "collapsed": true
   },
   "outputs": [],
   "source": [
    "userid=\"qing-shi-yong-zhen-shi-xing-ming\"\n",
    "offset=\"0\"\n",
    "url=\"https://www.zhihu.com/api/v4/members/\"+userid+\"/followers?include=data[*].answer_count,articles_count,gender,follower_count,is_followed,is_following,badge[?(type=best_answerer)].topics&offset=\"+offset+\"&limit=20\"\n",
    "Chrome_login.get(url)    \n",
    "pre=Chrome_login.find_element_by_tag_name(\"pre\")"
   ]
  },
  {
   "cell_type": "code",
   "execution_count": 9,
   "metadata": {
    "collapsed": true
   },
   "outputs": [],
   "source": [
    "prejson=json.loads(pre.text)\n",
    "folls=prejson['data']"
   ]
  },
  {
   "cell_type": "code",
   "execution_count": 10,
   "metadata": {
    "collapsed": false
   },
   "outputs": [],
   "source": [
    "followers=[]\n",
    "aaa=getuserid(folls)\n",
    "for i in aaa:\n",
    "    followers.append(i)"
   ]
  },
  {
   "cell_type": "code",
   "execution_count": 16,
   "metadata": {
    "collapsed": false
   },
   "outputs": [],
   "source": [
    "for i in range(0,24000,20):\n",
    "    print i\n",
    "    time.sleep(2)\n",
    "    offset=str(i)\n",
    "    url=\"https://www.zhihu.com/api/v4/members/\"+userid+\"/followers?include=data[*].answer_count,articles_count,gender,follower_count,is_followed,is_following,badge[?(type=best_answerer)].topics&offset=\"+offset+\"&limit=20\"\n",
    "    Chrome_login.get(url)    \n",
    "    pre=Chrome_login.find_element_by_tag_name(\"pre\")\n",
    "    prejson=json.loads(pre.text)\n",
    "    folls=prejson['data']\n",
    "    print len(folls)\n",
    "    aaa=getuserid(folls)\n",
    "    for i in aaa:\n",
    "        followers.append(i)\n",
    "    print time.strftime('%H:%M:%S',time.localtime(time.time()))\n",
    "    print len(followers)"
   ]
  },
  {
   "cell_type": "code",
   "execution_count": 19,
   "metadata": {
    "collapsed": true
   },
   "outputs": [
    {
     "data": {
      "text/plain": [
       "{u'avatar_url': u'https://pic3.zhimg.com/v2-7c9236ae57a3eb015ecc28b5712bcbba_is.jpg',\n",
       " u'avatar_url_template': u'https://pic3.zhimg.com/v2-7c9236ae57a3eb015ecc28b5712bcbba_{size}.jpg',\n",
       " u'badge': [],\n",
       " u'favorited_count': 10645,\n",
       " u'follower_count': 6215,\n",
       " u'gender': 0,\n",
       " u'headline': u'\\u516c\\u4f17\\u5e73\\u53f0\\uff1a\\u987e\\u4e4b\\u57ce | \\u6574\\u7406\\u3001\\u8d4f\\u6790\\u8bd7\\u4eba\\u987e\\u57ce\\u7684\\u8bd7\\u6587\\uff0c\\u6742\\u8c08\\u7b49\\u3002',\n",
       " u'id': u'b0a2c392863c11cca81d8b7175cbf1b2',\n",
       " u'is_advertiser': False,\n",
       " u'is_org': False,\n",
       " u'locations': [{u'avatar_url': u'https://pic2.zhimg.com/aea66d640b12450a861282066d78bb2d_is.jpg',\n",
       "   u'excerpt': u'\\u4e0a\\u6d77\\uff0c\\u53c8\\u79f0\\u300c\\u4e0a\\u6d77\\u6ee9\\u300d\\u3002\\u4e2d\\u56fd\\u7b2c\\u4e00\\u5927\\u57ce\\u5e02\\uff0c\\u56db\\u5927\\u76f4\\u8f96\\u5e02\\u4e4b\\u4e00\\uff0c\\u4e2d\\u56fd\\u56fd\\u5bb6\\u4e2d\\u5fc3\\u57ce\\u5e02\\uff0c\\u4e2d\\u56fd\\u7684\\u7ecf\\u6d4e\\u3001\\u79d1\\u6280\\u3001\\u5de5\\u4e1a\\u3001\\u91d1\\u878d\\u3001\\u8d38\\u6613\\u3001\\u4f1a\\u5c55\\u548c\\u822a\\u8fd0\\u4e2d\\u5fc3\\u3002\\u4e0a\\u6d77\\u4f4d\\u4e8e\\u4e2d\\u56fd\\u5927\\u9646\\u6d77\\u5cb8\\u7ebf\\u4e2d\\u90e8\\u957f\\u6c5f\\u53e3\\uff0c\\u62e5\\u6709\\u4e2d\\u56fd\\u6700\\u5927\\u5916\\u8d38\\u6e2f\\u53e3\\u548c\\u6700\\u5927\\u5de5\\u4e1a\\u57fa\\u5730\\u3002\\u9694\\u6d77\\u4e0e\\u65e5\\u672c\\u4e5d\\u5dde\\u5c9b\\u76f8\\u671b\\uff0c\\u5357\\u6fd2\\u676d\\u5dde\\u6e7e\\uff0c\\u897f\\u90e8\\u4e0e\\u6c5f\\u82cf\\u3001\\u6d59\\u6c5f\\u4e24\\u7701\\u76f8\\u63a5\\u3002\\u4e0a\\u6d77\\u6e2f\\u8d27\\u7269\\u541e\\u5410\\u91cf\\u5c45\\u4e16\\u754c\\u7b2c\\u4e00\\u3002\\u4e0a\\u6d77\\u662f\\u4e00\\u5ea7\\u65b0\\u5174\\u7684\\u65c5\\u6e38\\u57ce\\u5e02\\uff0c\\u6709\\u6df1\\u539a\\u8fd1\\u4ee3\\u57ce\\u5e02\\u6587\\u5316\\u5e95\\u8574\\u548c\\u4f17\\u591a\\u5386\\u53f2\\u53e4\\u8ff9\\uff0c\\u4e3e\\u529e\\u8fc7\\u4e16\\u535a\\u4f1a\\u3002\\u6c5f\\u5357\\u7684\\u4f20\\u7edf\\u4e0e\\u79fb\\u6c11\\u5e26\\u5165\\u7684\\u6587\\u5316\\u878d\\u5408\\uff0c\\u9010\\u6e10\\u5f62\\u2026',\n",
       "   u'id': u'19550818',\n",
       "   u'introduction': u'\\u4e0a\\u6d77\\uff0c\\u53c8\\u79f0\\u300c\\u4e0a\\u6d77\\u6ee9\\u300d\\u3002\\u4e2d\\u56fd\\u7b2c\\u4e00\\u5927\\u57ce\\u5e02\\uff0c\\u56db\\u5927\\u76f4\\u8f96\\u5e02\\u4e4b\\u4e00\\uff0c\\u4e2d\\u56fd\\u56fd\\u5bb6\\u4e2d\\u5fc3\\u57ce\\u5e02\\uff0c\\u4e2d\\u56fd\\u7684\\u7ecf\\u6d4e\\u3001\\u79d1\\u6280\\u3001\\u5de5\\u4e1a\\u3001\\u91d1\\u878d\\u3001\\u8d38\\u6613\\u3001\\u4f1a\\u5c55\\u548c\\u822a\\u8fd0\\u4e2d\\u5fc3\\u3002\\u4e0a\\u6d77\\u4f4d\\u4e8e\\u4e2d\\u56fd\\u5927\\u9646\\u6d77\\u5cb8\\u7ebf\\u4e2d\\u90e8\\u957f\\u6c5f\\u53e3\\uff0c\\u62e5\\u6709\\u4e2d\\u56fd\\u6700\\u5927\\u5916\\u8d38\\u6e2f\\u53e3\\u548c\\u6700\\u5927\\u5de5\\u4e1a\\u57fa\\u5730\\u3002\\u9694\\u6d77\\u4e0e\\u65e5\\u672c\\u4e5d\\u5dde\\u5c9b\\u76f8\\u671b\\uff0c\\u5357\\u6fd2\\u676d\\u5dde\\u6e7e\\uff0c\\u897f\\u90e8\\u4e0e\\u6c5f\\u82cf\\u3001\\u6d59\\u6c5f\\u4e24\\u7701\\u76f8\\u63a5\\u3002\\u4e0a\\u6d77\\u6e2f\\u8d27\\u7269\\u541e\\u5410\\u91cf\\u5c45\\u4e16\\u754c\\u7b2c\\u4e00\\u3002\\u4e0a\\u6d77\\u662f\\u4e00\\u5ea7\\u65b0\\u5174\\u7684\\u65c5\\u6e38\\u57ce\\u5e02\\uff0c\\u6709\\u6df1\\u539a\\u8fd1\\u4ee3\\u57ce\\u5e02\\u6587\\u5316\\u5e95\\u8574\\u548c\\u4f17\\u591a\\u5386\\u53f2\\u53e4\\u8ff9\\uff0c\\u4e3e\\u529e\\u8fc7\\u4e16\\u535a\\u4f1a\\u3002\\u6c5f\\u5357\\u7684\\u4f20\\u7edf\\u4e0e\\u79fb\\u6c11\\u5e26\\u5165\\u7684\\u6587\\u5316\\u878d\\u5408\\uff0c\\u9010\\u6e10\\u5f62\\u6210\\u4e86\\u7279\\u6709\\u7684\\u6d77\\u6d3e\\u6587\\u5316\\u3002\\u4e0a\\u6d77\\u65e9\\u5df2\\u6210\\u4e3a\\u56fd\\u9645\\u5927\\u90fd\\u5e02\\uff0c\\u5e76\\u81f4\\u529b\\u4e8e\\u57282020\\u5e74\\u5efa\\u8bbe\\u6210\\u4e3a\\u56fd\\u9645\\u91d1\\u878d\\u548c\\u822a\\u8fd0\\u4e2d\\u5fc3\\u3002',\n",
       "   u'name': u'\\u4e0a\\u6d77',\n",
       "   u'type': u'topic',\n",
       "   u'url': u'http://www.zhihu.com/api/v4/topics/19550818'}],\n",
       " u'name': u'Benny Fan',\n",
       " u'thanked_count': 5765,\n",
       " u'type': u'people',\n",
       " u'url': u'http://www.zhihu.com/api/v4/people/b0a2c392863c11cca81d8b7175cbf1b2',\n",
       " u'url_token': u'Benny_fann',\n",
       " u'user_type': u'people',\n",
       " u'voteup_count': 29611}"
      ]
     },
     "execution_count": 19,
     "metadata": {},
     "output_type": "execute_result"
    }
   ],
   "source": [
    "prejson"
   ]
  },
  {
   "cell_type": "code",
   "execution_count": 18,
   "metadata": {
    "collapsed": true
   },
   "outputs": [],
   "source": [
    "userid=followers[0]\n",
    "url=\"https://www.zhihu.com/api/v4/members/\"+userid+\"?include=locations,business,voteup_count,thanked_count,follower_count,favorited_count\"\n",
    "Chrome_login.get(url) \n",
    "pre=Chrome_login.find_element_by_tag_name(\"pre\")\n",
    "prejson=json.loads(pre.text)"
   ]
  },
  {
   "cell_type": "code",
   "execution_count": 25,
   "metadata": {
    "collapsed": true
   },
   "outputs": [],
   "source": [
    "def getinfobyuserid_selenium(userid):\n",
    "    time.sleep(1)\n",
    "    print userid\n",
    "    url=\"https://www.zhihu.com/api/v4/members/\"+userid+\"?include=locations,business,voteup_count,thanked_count,follower_count,favorited_count\"\n",
    "    Chrome_login.get(url) \n",
    "    pre=Chrome_login.find_element_by_tag_name(\"pre\")\n",
    "    json_str = json.loads(pre.text)\n",
    "    #print json_str\n",
    "    result=[]\n",
    "    result.append(json_str['url_token'])\n",
    "    result.append(json_str['voteup_count'])\n",
    "    result.append(json_str['thanked_count'])\n",
    "    result.append(json_str['follower_count'])\n",
    "    result.append(json_str['favorited_count'])\n",
    "    if(json_str.has_key(\"business\")):\n",
    "        result.append(json_str['business']['name'])\n",
    "    else:\n",
    "        result.append(0)\n",
    "    if(json_str.has_key(\"locations\")):\n",
    "        if(len(json_str['locations'])>0):\n",
    "            result.append(json_str['locations'][0]['name'])\n",
    "        else:\n",
    "            result.append(0)\n",
    "    else:\n",
    "        result.append(0)\n",
    "    return result"
   ]
  },
  {
   "cell_type": "code",
   "execution_count": 26,
   "metadata": {
    "collapsed": false
   },
   "outputs": [],
   "source": [
    "ar=getinfobyuserid_selenium(userid)"
   ]
  },
  {
   "cell_type": "code",
   "execution_count": 27,
   "metadata": {
    "collapsed": false
   },
   "outputs": [],
   "source": [
    "allr=[]\n",
    "for userid in followers:\n",
    "    ar=getinfobyuserid_selenium(userid)\n",
    "    allr.append(ar)"
   ]
  },
  {
   "cell_type": "code",
   "execution_count": 30,
   "metadata": {
    "collapsed": false
   },
   "outputs": [],
   "source": [
    "pd.DataFrame(allr).to_csv(u\"纸糊.csv\")"
   ]
  },
  {
   "cell_type": "code",
   "execution_count": null,
   "metadata": {
    "collapsed": true
   },
   "outputs": [],
   "source": [
    "#从某一用户开始\n",
    "userid=\"kaifulee\"\n",
    "#获取该用户的全部关注大于4000的follower\n",
    "followerlist=getfollowers(userid)\n",
    "while(len(followerlist)<>0):\n",
    "    userinfos=[]\n",
    "    for userid in followerlist:\n",
    "        #获取该用户的信息\n",
    "        userinfo=getfollowers(userid)\n",
    "        userinfos.append(userinfo)\n",
    "    #遍历该用户的\n",
    "    "
   ]
  }
 ],
 "metadata": {
  "kernelspec": {
   "display_name": "Python 2",
   "language": "python",
   "name": "python2"
  },
  "language_info": {
   "codemirror_mode": {
    "name": "ipython",
    "version": 2
   },
   "file_extension": ".py",
   "mimetype": "text/x-python",
   "name": "python",
   "nbconvert_exporter": "python",
   "pygments_lexer": "ipython2",
   "version": "2.7.13"
  }
 },
 "nbformat": 4,
 "nbformat_minor": 2
}
